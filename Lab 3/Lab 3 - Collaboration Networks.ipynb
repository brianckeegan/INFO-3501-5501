{
 "cells": [
  {
   "cell_type": "markdown",
   "metadata": {},
   "source": [
    "# Lab 3 - Collaboration Networks"
   ]
  },
  {
   "cell_type": "markdown",
   "metadata": {},
   "source": [
    "**Professor [Brian Keegan](https://www.brianckeegan.com)**  \n",
    "**[Department of Information Science, CU Boulder](www.colorado.edu/cmci/academics/information-science)**  \n",
    "This notebook is copyright and made available under the [Apache License v2.0](https://creativecommons.org/licenses/by-sa/4.0/) license.\n",
    "\n",
    "This is the third of five lab notebooks that will explore how to analyze the structure of collaborations in Wikipedia data about users' revisions across multiple articles. This lab will extend the methods in the previous two labs about analyzing a single article's revision histories and analyzing the hyperlink networks around a single Wikipedia page. You do not need to be fluent in either to complete the lab, but there are many options for extending the analyses we do here by using more advanced queries and scripting methods.\n",
    "\n",
    "**Acknowledgements**  \n",
    "I'd like to thank the Wikimedia Foundation for the [PAWS system](https://wikitech.wikimedia.org/wiki/PAWS) and [related Wikitech infrastructure](https://wikitech.wikimedia.org/wiki/Main_Page) that this workbook runs within. Yuvi Panda, Aaron Halfaker, Jonathan Morgan, and Dario Taraborelli have all provided crucial support and feedback."
   ]
  },
  {
   "cell_type": "markdown",
   "metadata": {},
   "source": [
    "## Confirm that basic Python commands work"
   ]
  },
  {
   "cell_type": "code",
   "execution_count": 1,
   "metadata": {
    "collapsed": false
   },
   "outputs": [
    {
     "data": {
      "text/plain": [
       "16"
      ]
     },
     "execution_count": 1,
     "metadata": {},
     "output_type": "execute_result"
    }
   ],
   "source": [
    "a = 3\n",
    "b = 4\n",
    "c = 5\n",
    "(c-a)**b"
   ]
  },
  {
   "cell_type": "markdown",
   "metadata": {},
   "source": [
    "## Import modules and setup environment"
   ]
  },
  {
   "cell_type": "markdown",
   "metadata": {},
   "source": [
    "Load up all the libraries we'll need to connect to the database, retreive information for analysis, and visualize results."
   ]
  },
  {
   "cell_type": "code",
   "execution_count": 2,
   "metadata": {
    "collapsed": false
   },
   "outputs": [],
   "source": [
    "# Makes the plots appear within the notebook\n",
    "%matplotlib inline\n",
    "\n",
    "# Two fundamental packages for doing data manipulation\n",
    "import numpy as np                   # http://www.numpy.org/\n",
    "import pandas as pd                  # http://pandas.pydata.org/\n",
    "\n",
    "# Two related packages for plotting data\n",
    "import matplotlib.pyplot as plt      # http://matplotlib.org/\n",
    "import seaborn as sb                 # https://stanford.edu/~mwaskom/software/seaborn/\n",
    "\n",
    "# Package for requesting data via the web and parsing resulting JSON\n",
    "import requests                      # http://docs.python-requests.org/en/master/\n",
    "import json                          # https://docs.python.org/3/library/json.html\n",
    "from bs4 import BeautifulSoup        # https://www.crummy.com/software/BeautifulSoup/bs4/doc/\n",
    "\n",
    "# Two packages for accessing the MySQL server\n",
    "import pymysql                       # http://pymysql.readthedocs.io/en/latest/\n",
    "import os                            # https://docs.python.org/3.4/library/os.html\n",
    "\n",
    "# Packages for analyzing complex networks\n",
    "import networkx as nx                # https://networkx.github.io/\n",
    "import igraph as ig                  # igraph.org/python/\n",
    "\n",
    "# Setup the code environment to use plots with a white background and DataFrames show more columns and rows\n",
    "sb.set_style('whitegrid')\n",
    "pd.options.display.max_columns = 100\n",
    "pd.options.display.max_rows = 110"
   ]
  },
  {
   "cell_type": "markdown",
   "metadata": {},
   "source": [
    "Define the name of the article you want to use for the rest of the lab."
   ]
  },
  {
   "cell_type": "code",
   "execution_count": 3,
   "metadata": {
    "collapsed": true
   },
   "outputs": [],
   "source": [
    "page_title = 'Laura Bush'"
   ]
  },
  {
   "cell_type": "markdown",
   "metadata": {},
   "source": [
    "## Define helper functions"
   ]
  },
  {
   "cell_type": "markdown",
   "metadata": {},
   "source": [
    "Start off by using two functions from Lab 2 and defining some additional helper functions."
   ]
  },
  {
   "cell_type": "markdown",
   "metadata": {},
   "source": [
    "### Define a function to deal with redirects"
   ]
  },
  {
   "cell_type": "markdown",
   "metadata": {},
   "source": [
    "Take an example article like \"[Laura Lane Welch](https://en.wikipedia.org/w/index.php?title=Laura_Lane_Welch&redirect=no)\", the maiden name of former First Lady Laura Bush. This article is an example of a *[redirect](https://en.wikipedia.org/wiki/Wikipedia:Redirect)* that is a basically a placeholder for an alternative name pointing to the canonical page title. These redirects [also have revision histories](https://en.wikipedia.org/w/index.php?title=Laura_Lane_Welch&action=history), but they are typically very small.\n",
    "\n",
    "We need to write a function `resolve_redirects` to deal with redirects so that they don't pollute our data with unusually small collaborations."
   ]
  },
  {
   "cell_type": "code",
   "execution_count": 4,
   "metadata": {
    "collapsed": false
   },
   "outputs": [],
   "source": [
    "# From http://stackoverflow.com/a/312464/1574687\n",
    "def make_chunks(l, n):\n",
    "    \"\"\"Yield successive n-sized chunks from l.\"\"\"\n",
    "    for i in range(0, len(l), n):\n",
    "        yield l[i:i + n]\n",
    "\n",
    "def resolve_redirects(page_title_list):\n",
    "    # Chunk the pages into a list of lists of size 50\n",
    "    chunks = make_chunks(page_title_list,50)\n",
    "    # Create an empty list to fill with the redirected titles\n",
    "    redirected_page_titles = []\n",
    "    # For each chunk try to get the redirects\n",
    "    for chunk in chunks:\n",
    "        # Create the query string that separates spaces within page titles by '+' \n",
    "        # and separates page titles by '|'\n",
    "        page_titles_string = '|'.join([page.replace(' ','+') for page in chunk])\n",
    "        # Put this large string into the URL\n",
    "        url_string = 'https://en.wikipedia.org/w/api.php?action=query&format=json&prop=pageprops&titles={0}+&redirects=1'.format(page_titles_string)\n",
    "        # Do the query and parse the JSON response into a dictionary\n",
    "        req = json.loads(requests.get(url_string).text)\n",
    "        # Convert the returned values containing redirects into a dictionary\n",
    "        if 'redirects' in req['query'].keys():\n",
    "            redirected_titles = {d['from']:d['to'] for d in req['query']['redirects']}\n",
    "            # Add the redirected titles to the list\n",
    "            for title in chunk:\n",
    "                try:\n",
    "                    redirected_page_titles.append(redirected_titles[title])\n",
    "                # If they don't have a redirect just add the original title\n",
    "                except KeyError:\n",
    "                    redirected_page_titles.append(title)\n",
    "    # Make sure the number of page titles remained the same, otherwise raise a warning\n",
    "    if len(page_title_list) == len(redirected_page_titles):\n",
    "        return redirected_page_titles\n",
    "    else:\n",
    "        print(\"WARNING! The number of page titles in the redirected list is not equal to the input list\")\n",
    "        return redirected_page_titles"
   ]
  },
  {
   "cell_type": "markdown",
   "metadata": {},
   "source": [
    "### Retrieve the content of the page via API"
   ]
  },
  {
   "cell_type": "code",
   "execution_count": 6,
   "metadata": {
    "collapsed": false
   },
   "outputs": [],
   "source": [
    "def get_page_outlinks(page_title,redirects=1):\n",
    "    # Replace spaces with underscores\n",
    "    #page_title = page_title.replace(' ','_')\n",
    "    \n",
    "    bad_titles = ['Special:','Wikipedia:','Help:','Template:','Category:','International Standard','Portal:','s:']\n",
    "    \n",
    "    # Get the response from the API for a query\n",
    "    # After passing a page title, the API returns the HTML markup of the current article version within a JSON payload\n",
    "    req = requests.get('https://en.wikipedia.org/w/api.php?action=parse&format=json&page={0}&redirects={1}&prop=text&disableeditsection=1&disabletoc=1'.format(page_title,redirects))\n",
    "    \n",
    "    # Read the response into JSON to parse and extract the HTML\n",
    "    json_string = json.loads(req.text)\n",
    "    \n",
    "    # Initialize an empty list to store the links\n",
    "    outlinks_list = [] \n",
    "    \n",
    "    if 'parse' in json_string.keys():\n",
    "        page_html = json_string['parse']['text']['*']\n",
    "\n",
    "        # Parse the HTML into Beautiful Soup\n",
    "        soup = BeautifulSoup(page_html,'lxml')\n",
    "\n",
    "        # Delete tags associated with templates\n",
    "        for tag in soup.find_all('tr'):\n",
    "            tag.replace_with('')\n",
    "\n",
    "        # For each paragraph tag, extract the titles within the links\n",
    "        for para in soup.find_all('p'):\n",
    "            for link in para.find_all('a'):\n",
    "                if link.has_attr('title'):\n",
    "                    title = link['title']\n",
    "                    # Ignore links that aren't interesting\n",
    "                    if all(bad not in title for bad in bad_titles):\n",
    "                        outlinks_list.append(title)\n",
    "\n",
    "        # For each unordered list, extract the titles within the child links\n",
    "        for unordered_list in soup.find_all('ul'):\n",
    "            for item in unordered_list.find_all('li'):\n",
    "                for link in item.find_all('a'):\n",
    "                    if link.has_attr('title'):\n",
    "                        title = link['title']\n",
    "                        # Ignore links that aren't interesting\n",
    "                        if all(bad not in title for bad in bad_titles):\n",
    "                            outlinks_list.append(title)\n",
    "\n",
    "    return outlinks_list"
   ]
  },
  {
   "cell_type": "markdown",
   "metadata": {},
   "source": [
    "### Test to make sure the `resolve_redirects` function works"
   ]
  },
  {
   "cell_type": "markdown",
   "metadata": {},
   "source": [
    "Test the function and compare the list of outlinks from the article to the pages they actually resolve to. This should produce a set of articles titles that are named differently than how they're linked to in the article."
   ]
  },
  {
   "cell_type": "code",
   "execution_count": 7,
   "metadata": {
    "collapsed": false
   },
   "outputs": [
    {
     "data": {
      "text/plain": [
       "{'Barbara Bush (born 1981)',\n",
       " 'Boston Marathon bombing',\n",
       " 'Chris Wallace',\n",
       " 'Democratic Party (United States)',\n",
       " 'Dennis Roddy',\n",
       " 'Detroit',\n",
       " 'Emergency management',\n",
       " 'Emergency service',\n",
       " 'Fox News Channel',\n",
       " 'Gallup (company)',\n",
       " 'Gay-friendly',\n",
       " 'George W. Bush Presidential Center',\n",
       " 'Gloria Macapagal Arroyo',\n",
       " 'Head Start (program)',\n",
       " 'Inquisitr',\n",
       " 'Iraq War',\n",
       " 'Kennebunkport, Maine',\n",
       " 'Leander Independent School District',\n",
       " 'Myanmar',\n",
       " 'New Orleans',\n",
       " 'Patriot Act',\n",
       " 'People (magazine)',\n",
       " 'Radio Free Europe/Radio Liberty',\n",
       " 'Republican Party (United States)',\n",
       " 'Teacher',\n",
       " 'United States Navy SEALs',\n",
       " 'United States presidential election, 2000',\n",
       " 'War in Afghanistan (2001–2014)',\n",
       " 'War on Terror',\n",
       " 'WhiteHouse.gov'}"
      ]
     },
     "execution_count": 7,
     "metadata": {},
     "output_type": "execute_result"
    }
   ],
   "source": [
    "# Get the outlinks\n",
    "outlinks = get_page_outlinks(page_title)\n",
    "\n",
    "# Use the resolve_redirects function to get a canonical list\n",
    "resolved_redirects_list = resolve_redirects(outlinks)\n",
    "\n",
    "# Compare the articles in the resolved_redirects_list to the original list of outlinks\n",
    "set(resolved_redirects_list) - set(outlinks)"
   ]
  },
  {
   "cell_type": "markdown",
   "metadata": {},
   "source": [
    "### Calculate communities within the network"
   ]
  },
  {
   "cell_type": "code",
   "execution_count": 8,
   "metadata": {
    "collapsed": true
   },
   "outputs": [],
   "source": [
    "def comparative_community_detector(igraph):\n",
    "    memberships = {}\n",
    "    \n",
    "    # Directed memberships\n",
    "    memberships['betweenness'] = igraph.community_edge_betweenness().as_clustering().membership\n",
    "    memberships['infomap'] = igraph.community_infomap().membership\n",
    "    memberships['spinglass'] = igraph.community_spinglass().membership\n",
    "    memberships['walktrap'] = igraph.community_walktrap().as_clustering().membership\n",
    "    \n",
    "    # Undirected memberships\n",
    "    undirected = igraph.as_undirected()\n",
    "    memberships['fastgreedy'] = undirected.community_fastgreedy().as_clustering().membership\n",
    "    memberships['leading_eigenvector'] = undirected.community_leading_eigenvector().membership\n",
    "    memberships['multilevel'] = undirected.community_multilevel().membership\n",
    "    \n",
    "    labelled_memberships = {}\n",
    "    for label,membership in memberships.items():\n",
    "        labelled_memberships[label] = dict(zip(igraph.vs['id'],membership))\n",
    "        \n",
    "    return labelled_memberships"
   ]
  },
  {
   "cell_type": "markdown",
   "metadata": {},
   "source": [
    "# Data retrieval"
   ]
  },
  {
   "cell_type": "markdown",
   "metadata": {},
   "source": [
    "Retrieve the host name, username, and (encrypted) password associated with your account so you can login to the database."
   ]
  },
  {
   "cell_type": "code",
   "execution_count": 9,
   "metadata": {
    "collapsed": true
   },
   "outputs": [],
   "source": [
    "host, user, password = os.environ['MYSQL_HOST'], os.environ['MYSQL_USERNAME'], os.environ['MYSQL_PASSWORD']"
   ]
  },
  {
   "cell_type": "markdown",
   "metadata": {},
   "source": [
    "Connect to the system using the creditials from above, then select the database for the English Wikipedia."
   ]
  },
  {
   "cell_type": "code",
   "execution_count": 10,
   "metadata": {
    "collapsed": true
   },
   "outputs": [],
   "source": [
    "conn = pymysql.connect(host=host,user=user,password=password,database='enwiki_p',connect_timeout=3600)\n",
    "conn.cursor().execute('use enwiki_p');"
   ]
  },
  {
   "cell_type": "markdown",
   "metadata": {},
   "source": [
    "### Define functions to retrieve data from the MySQL database"
   ]
  },
  {
   "cell_type": "markdown",
   "metadata": {},
   "source": [
    "Define a function `get_user_revision_counts` to return the number of times and the first/last edits a user made to a single article."
   ]
  },
  {
   "cell_type": "code",
   "execution_count": 11,
   "metadata": {
    "collapsed": false
   },
   "outputs": [],
   "source": [
    "def get_user_revision_counts(page_title,conn):\n",
    "    \"\"\" Takes a page title and returns the number of revisions each user made.\n",
    "      page_title = a string for the page title to get its revisions\n",
    "      conn = a database connection\n",
    "      \n",
    "    Returns:\n",
    "      A DataFrame with username, page title, edit count, and min/max timestamps\n",
    "    \"\"\"\n",
    "    # In case you pass a page title with spaces in it, replace the spaces with underscores\n",
    "    page_title = page_title.replace(' ','_').encode('utf8').decode('latin1')\n",
    "    \n",
    "    # The MySQL query string used to retrieve the data. By line, it is\n",
    "    ## selecting username, page title, the count of edits, and min/max timestamp \n",
    "    ## from the \"revisions\" table\n",
    "    ## joining the \"page\" table on it\n",
    "    ## using the page_id and rev_page columns as keys\n",
    "    ## limiting the results to entries that have the pagetitle, occur in the namespace, and have >1 edits\n",
    "    ## grouping the results by username\n",
    "    ## and subsetting the groupby to users making more than 1 edit\n",
    "    s = \"\"\"\n",
    "            SELECT \n",
    "                rev_user_text as user,\n",
    "                page.page_title as page,\n",
    "                COUNT(rev_user_text) as edits,\n",
    "                MIN(rev_timestamp) as min_timestamp,\n",
    "                MAX(rev_timestamp) as max_timestamp\n",
    "            FROM \n",
    "                revision \n",
    "            JOIN \n",
    "                page ON page.page_id = revision.rev_page\n",
    "            WHERE \n",
    "                page.page_title = \"{0}\" \n",
    "                AND page_namespace = 0\n",
    "            GROUP BY\n",
    "                rev_user_text\n",
    "            HAVING\n",
    "                edits > 1\n",
    "        \"\"\".format(page_title)\n",
    "\n",
    "    # Use the connection to run the query and return the results as a DataFrame\n",
    "    _df = pd.read_sql_query(s,conn)\n",
    "    \n",
    "    # Some of the results have a \"bytestring\" format\n",
    "    byte_columns = ['user','page','min_timestamp','max_timestamp']\n",
    "    \n",
    "    # For each column, convert it from bytestring to a utf8 string\n",
    "    for col in byte_columns:\n",
    "        _df[col] = _df[col].str.decode('utf8')\n",
    "        \n",
    "    # Several of the columns are timestamps. Convert to datetimes\n",
    "    try:\n",
    "        _df['min_timestamp'] = _df['min_timestamp'].apply(lambda x:pd.datetime.strptime(x,'%Y%m%d%H%M%S'))\n",
    "        _df['max_timestamp'] = _df['max_timestamp'].apply(lambda x:pd.datetime.strptime(x,'%Y%m%d%H%M%S'))\n",
    "        _df['min_timestamp'] = _df['min_timestamp'].apply(lambda x:round((x-pd.Timestamp('2001-01-01'))/np.timedelta64(1,'D'),0))\n",
    "        _df['max_timestamp'] = _df['max_timestamp'].apply(lambda x:round((x-pd.Timestamp('2001-01-01'))/np.timedelta64(1,'D'),0))\n",
    "    except:\n",
    "        pass\n",
    "    \n",
    "    # Return the data, with a clean index\n",
    "    return _df\n",
    "\n",
    "# Also define a cute little function that will return the sizes of the network\n",
    "def bipartite_network_size(edgelist_df,user_col='user',page_col='page'):\n",
    "    # Print out summary statistics\n",
    "    users = len(collab_nobot_edgelist_df[user_col].unique())\n",
    "    pages = len(collab_nobot_edgelist_df[page_col].unique())\n",
    "    edges = len(edgelist_df)\n",
    "    return users, pages, edges"
   ]
  },
  {
   "cell_type": "markdown",
   "metadata": {},
   "source": [
    "Check to see the results of how this function works."
   ]
  },
  {
   "cell_type": "code",
   "execution_count": 12,
   "metadata": {
    "collapsed": false
   },
   "outputs": [
    {
     "data": {
      "text/html": [
       "<div>\n",
       "<table border=\"1\" class=\"dataframe\">\n",
       "  <thead>\n",
       "    <tr style=\"text-align: right;\">\n",
       "      <th></th>\n",
       "      <th>user</th>\n",
       "      <th>page</th>\n",
       "      <th>edits</th>\n",
       "      <th>min_timestamp</th>\n",
       "      <th>max_timestamp</th>\n",
       "    </tr>\n",
       "  </thead>\n",
       "  <tbody>\n",
       "    <tr>\n",
       "      <th>0</th>\n",
       "      <td>*drew</td>\n",
       "      <td>Laura_Bush</td>\n",
       "      <td>2</td>\n",
       "      <td>1827.0</td>\n",
       "      <td>1827.0</td>\n",
       "    </tr>\n",
       "    <tr>\n",
       "      <th>1</th>\n",
       "      <td>108.212.68.238</td>\n",
       "      <td>Laura_Bush</td>\n",
       "      <td>5</td>\n",
       "      <td>4043.0</td>\n",
       "      <td>4044.0</td>\n",
       "    </tr>\n",
       "    <tr>\n",
       "      <th>2</th>\n",
       "      <td>12.110.182.2</td>\n",
       "      <td>Laura_Bush</td>\n",
       "      <td>2</td>\n",
       "      <td>2389.0</td>\n",
       "      <td>2389.0</td>\n",
       "    </tr>\n",
       "    <tr>\n",
       "      <th>3</th>\n",
       "      <td>12.186.37.50</td>\n",
       "      <td>Laura_Bush</td>\n",
       "      <td>3</td>\n",
       "      <td>2605.0</td>\n",
       "      <td>2605.0</td>\n",
       "    </tr>\n",
       "    <tr>\n",
       "      <th>4</th>\n",
       "      <td>12.214.36.127</td>\n",
       "      <td>Laura_Bush</td>\n",
       "      <td>2</td>\n",
       "      <td>1859.0</td>\n",
       "      <td>1860.0</td>\n",
       "    </tr>\n",
       "  </tbody>\n",
       "</table>\n",
       "</div>"
      ],
      "text/plain": [
       "             user        page  edits  min_timestamp  max_timestamp\n",
       "0           *drew  Laura_Bush      2         1827.0         1827.0\n",
       "1  108.212.68.238  Laura_Bush      5         4043.0         4044.0\n",
       "2    12.110.182.2  Laura_Bush      2         2389.0         2389.0\n",
       "3    12.186.37.50  Laura_Bush      3         2605.0         2605.0\n",
       "4   12.214.36.127  Laura_Bush      2         1859.0         1860.0"
      ]
     },
     "execution_count": 12,
     "metadata": {},
     "output_type": "execute_result"
    }
   ],
   "source": [
    "# Awaken the data connection\n",
    "conn.ping()\n",
    "conn.cursor().execute('use enwiki_p')\n",
    "\n",
    "# Get the revisions\n",
    "single_page_user_revision_counts = get_user_revision_counts(page_title,conn)\n",
    "\n",
    "# Look at the first few rows\n",
    "single_page_user_revision_counts.head()"
   ]
  },
  {
   "cell_type": "markdown",
   "metadata": {},
   "source": [
    "Write a function `get_neighbors_all_revisions` to take a single page, get all its outlinks, and for each one of these outlinks get the user revision counts. This will return a large DataFrame containing all the users who ever edited the article and the number of times."
   ]
  },
  {
   "cell_type": "code",
   "execution_count": 13,
   "metadata": {
    "collapsed": true
   },
   "outputs": [],
   "source": [
    "def get_neighbors_all_revisions(page_title,conn):\n",
    "    \"\"\" Takes a page title and returns revisions for the page and its neighbors.\n",
    "      page_title = a string for the page title to get its revisions\n",
    "      \n",
    "    Returns:\n",
    "      A pandas DataFrame containing all the page revisions.\n",
    "    \"\"\"\n",
    "    # Get the outlinks from the page and include the page itself in the list\n",
    "    alters = get_page_outlinks(page_title) + [page_title]\n",
    "    # Resolve the redirects in the list of alters\n",
    "    alters = resolve_redirects(alters)\n",
    "    # Create an empty container to hold the DataFrames\n",
    "    df_list = []\n",
    "    # For each page, get the revision counts and append to the df_list\n",
    "    for alter in alters:\n",
    "        _df = get_user_revision_counts(alter,conn)\n",
    "        df_list.append(_df)\n",
    "    # Concatenate the list of revision count DataFrames into a giant DataFrame\n",
    "    df = pd.concat(df_list)\n",
    "    # Return the data\n",
    "    return df.reset_index(drop=True)"
   ]
  },
  {
   "cell_type": "markdown",
   "metadata": {},
   "source": [
    "### Get revision count data for articles in hyperlink network"
   ]
  },
  {
   "cell_type": "markdown",
   "metadata": {},
   "source": [
    "Now run the `get_neighbors_all_revisions` function to not only get all the page outlinks, but also all the revisions for every page in the dataset.\n",
    "\n",
    "*This step may take more than a minute, depending on the number of articles and number of revisions made to them.*"
   ]
  },
  {
   "cell_type": "code",
   "execution_count": 14,
   "metadata": {
    "collapsed": false
   },
   "outputs": [
    {
     "name": "stdout",
     "output_type": "stream",
     "text": [
      "There are 118,843 unique user-page interactions between 65,272 unique users and 200 pages.\n"
     ]
    },
    {
     "data": {
      "text/html": [
       "<div>\n",
       "<table border=\"1\" class=\"dataframe\">\n",
       "  <thead>\n",
       "    <tr style=\"text-align: right;\">\n",
       "      <th></th>\n",
       "      <th>user</th>\n",
       "      <th>page</th>\n",
       "      <th>edits</th>\n",
       "      <th>min_timestamp</th>\n",
       "      <th>max_timestamp</th>\n",
       "    </tr>\n",
       "  </thead>\n",
       "  <tbody>\n",
       "    <tr>\n",
       "      <th>118838</th>\n",
       "      <td>Xqbot</td>\n",
       "      <td>Laura_Bush</td>\n",
       "      <td>2.0</td>\n",
       "      <td>3164.0</td>\n",
       "      <td>3429.0</td>\n",
       "    </tr>\n",
       "    <tr>\n",
       "      <th>118839</th>\n",
       "      <td>Ybbor</td>\n",
       "      <td>Laura_Bush</td>\n",
       "      <td>6.0</td>\n",
       "      <td>2295.0</td>\n",
       "      <td>2472.0</td>\n",
       "    </tr>\n",
       "    <tr>\n",
       "      <th>118840</th>\n",
       "      <td>ZX81</td>\n",
       "      <td>Laura_Bush</td>\n",
       "      <td>2.0</td>\n",
       "      <td>2943.0</td>\n",
       "      <td>2943.0</td>\n",
       "    </tr>\n",
       "    <tr>\n",
       "      <th>118841</th>\n",
       "      <td>Zorbel</td>\n",
       "      <td>Laura_Bush</td>\n",
       "      <td>2.0</td>\n",
       "      <td>2925.0</td>\n",
       "      <td>2925.0</td>\n",
       "    </tr>\n",
       "    <tr>\n",
       "      <th>118842</th>\n",
       "      <td>Zzuuzz</td>\n",
       "      <td>Laura_Bush</td>\n",
       "      <td>2.0</td>\n",
       "      <td>2165.0</td>\n",
       "      <td>2830.0</td>\n",
       "    </tr>\n",
       "  </tbody>\n",
       "</table>\n",
       "</div>"
      ],
      "text/plain": [
       "          user        page  edits  min_timestamp  max_timestamp\n",
       "118838   Xqbot  Laura_Bush    2.0         3164.0         3429.0\n",
       "118839   Ybbor  Laura_Bush    6.0         2295.0         2472.0\n",
       "118840    ZX81  Laura_Bush    2.0         2943.0         2943.0\n",
       "118841  Zorbel  Laura_Bush    2.0         2925.0         2925.0\n",
       "118842  Zzuuzz  Laura_Bush    2.0         2165.0         2830.0"
      ]
     },
     "execution_count": 14,
     "metadata": {},
     "output_type": "execute_result"
    }
   ],
   "source": [
    "# Awaken the data connection\n",
    "conn.ping()\n",
    "conn.cursor().execute('use enwiki_p')\n",
    "\n",
    "# Get the data\n",
    "all_rev_count_df = get_neighbors_all_revisions(page_title,conn)\n",
    "\n",
    "# Create a list of the unique users and pages for reference later\n",
    "collab_interactions = len(all_rev_count_df)\n",
    "collab_users = all_rev_count_df['user'].unique()\n",
    "collab_pages = all_rev_count_df['page'].unique()\n",
    "print(\"There are {0:,} unique user-page interactions between {1:,} unique users and {2:,} pages.\".format(collab_interactions,len(collab_users),len(collab_pages)))\n",
    "\n",
    "# Show the bottom 5 rows of data.\n",
    "all_rev_count_df.tail()"
   ]
  },
  {
   "cell_type": "markdown",
   "metadata": {},
   "source": [
    "### Convert edgelist data into a network"
   ]
  },
  {
   "cell_type": "markdown",
   "metadata": {},
   "source": [
    "We can convert this edgelist into a `networkx` [bipartite graph](https://en.wikipedia.org/wiki/Bipartite_graph) by doing several steps. First we store the unique names of all the users and pages as references for subsequent analysis. Then we use the `from_pandas_dataframe` function to take the \"collab_g_edgelist_df\" and turn it into a directed graph (order of the connections matters) with the users as a source and the page titles as a target. The nodes in the resulting graph should then be labelled as being users or pages so that we can compare them more clearly in the visualization. \n",
    "\n",
    "*However the amount of data in the network exceeds the available memory we have in the PAWS environment* (~1 GB). The code for constructing the whole network graph is below, but not in an executable form so as to prevent a kernel crash and you losing your progress so far."
   ]
  },
  {
   "cell_type": "raw",
   "metadata": {
    "collapsed": false
   },
   "source": [
    "# Convert the edgelist_df into a networkx graph, \n",
    "# preseving source, target, and weights\n",
    "collab_g = nx.from_pandas_dataframe(all_rev_count_df,source='user',target='page',\n",
    "                                    edge_attr=['edits','min_timestamp','max_timestamp'],\n",
    "                                    create_using=nx.DiGraph())\n",
    "\n",
    "# Label the nodes in the network as being users or pages using the lists from above\n",
    "collab_g.add_nodes_from(collab_users,nodetype='user')\n",
    "collab_g.add_nodes_from(collab_pages,nodetype='page')\n",
    "\n",
    "# Write the graph out to file so we can visualize it in Gephi\n",
    "nx.write_gexf(collab_g,'collaboration_{0}.gexf'.format(page_title.replace(' ','_')))"
   ]
  },
  {
   "cell_type": "markdown",
   "metadata": {},
   "source": [
    "Try an alternate version that excludes users having the name 'bot' in the title and users who made only one revision. You may get a `SettingWithCopyWarning` that pops up as a red box, but it should still have worked succesfully if the number of users, pages, and edges prints out at the bottom."
   ]
  },
  {
   "cell_type": "code",
   "execution_count": 15,
   "metadata": {
    "collapsed": false
   },
   "outputs": [
    {
     "name": "stderr",
     "output_type": "stream",
     "text": [
      "/srv/paws/lib/python3.4/site-packages/ipykernel/__main__.py:11: SettingWithCopyWarning: \n",
      "A value is trying to be set on a copy of a slice from a DataFrame.\n",
      "Try using .loc[row_indexer,col_indexer] = value instead\n",
      "\n",
      "See the caveats in the documentation: http://pandas.pydata.org/pandas-docs/stable/indexing.html#indexing-view-versus-copy\n",
      "/srv/paws/lib/python3.4/site-packages/ipykernel/__main__.py:12: SettingWithCopyWarning: \n",
      "A value is trying to be set on a copy of a slice from a DataFrame.\n",
      "Try using .loc[row_indexer,col_indexer] = value instead\n",
      "\n",
      "See the caveats in the documentation: http://pandas.pydata.org/pandas-docs/stable/indexing.html#indexing-view-versus-copy\n"
     ]
    },
    {
     "name": "stdout",
     "output_type": "stream",
     "text": [
      "There are 65,032 users, 200 pages, and 114,633 edges in the collaboration network.\n"
     ]
    }
   ],
   "source": [
    "# Identify (and negate with the starting ~) rows where the user name contains the word \"bot\"\n",
    "condition1 = ~all_rev_count_df['user'].str.lower().str.contains('bot').fillna(False)\n",
    "\n",
    "# Identify rows where the user made more than 1 edits\n",
    "condition2 = all_rev_count_df['edits'] > 1\n",
    "\n",
    "# Subset the DataFrame to exclude rows statisfying the intersection of all the conditions above: All two must be true\n",
    "collab_nobot_edgelist_df = all_rev_count_df[condition1 & condition2]\n",
    "\n",
    "# Make sure users stay users and pages stay pages in case a user has the same name as a page by prepending a character\n",
    "collab_nobot_edgelist_df['sure_user'] = collab_nobot_edgelist_df['user'].fillna('0').apply(lambda x: 'u:'+x)\n",
    "collab_nobot_edgelist_df['sure_page'] = collab_nobot_edgelist_df['page'].fillna('0').apply(lambda x: 'p:'+x)\n",
    "\n",
    "# Make a unique list of users and pages again\n",
    "collab_nobot_users = collab_nobot_edgelist_df['sure_user'].unique()\n",
    "collab_nobot_pages = collab_nobot_edgelist_df['sure_page'].unique()\n",
    "\n",
    "# Create the graph\n",
    "collab_nobot_g = nx.DiGraph()\n",
    "\n",
    "# Create a graph without bots\n",
    "collab_nobot_g = nx.from_pandas_dataframe(collab_nobot_edgelist_df,source='sure_user',target='sure_page',\n",
    "                                    edge_attr=['edits','min_timestamp','max_timestamp'],create_using=collab_nobot_g)\n",
    "\n",
    "collab_nobot_g.add_nodes_from(collab_nobot_users,nodetype='user')\n",
    "collab_nobot_g.add_nodes_from(collab_nobot_pages,nodetype='page')\n",
    "\n",
    "# Print out summary statistics using our cute little function from above\n",
    "_users, _pages, _edges = bipartite_network_size(collab_nobot_edgelist_df)\n",
    "print(\"There are {0:,} users, {1:,} pages, and {2:,} edges in the collaboration network.\".format(_users,_pages,_edges))\n",
    "\n",
    "# Write the graph to a GEXF file so we can visualize it\n",
    "nx.write_gexf(collab_nobot_g,'collaboration_{0}.gexf'.format(page_title.replace(' ','_')))"
   ]
  },
  {
   "cell_type": "markdown",
   "metadata": {},
   "source": [
    "## Project bipartite network into a page-page graph"
   ]
  },
  {
   "cell_type": "markdown",
   "metadata": {},
   "source": [
    "Project the two-mode/bipartite graph (having users connected to pages) into a weighted one-mode graph where pages are connected to pages if they share users in common."
   ]
  },
  {
   "cell_type": "code",
   "execution_count": 16,
   "metadata": {
    "collapsed": false
   },
   "outputs": [
    {
     "name": "stdout",
     "output_type": "stream",
     "text": [
      "There are 200 nodes and 10098 edges in the projected collaboration graph.\n"
     ]
    }
   ],
   "source": [
    "page_collaboration_g = nx.bipartite.weighted_projected_graph(collab_nobot_g.to_undirected(),collab_nobot_pages)\n",
    "\n",
    "# Identify edges having a weight less than 2, meaning that they share only one editor in common\n",
    "single_user_overlaps = [(i,j) for (i,j,d) in page_collaboration_g.edges_iter(data=True) if d['weight'] < 2]\n",
    "\n",
    "# Remove the edges with only a single user overlap\n",
    "page_collaboration_g.remove_edges_from(single_user_overlaps)\n",
    "\n",
    "# Report the number of nodes and edges\n",
    "print(\"There are {0} nodes and {1} edges in the projected collaboration graph.\".format(page_collaboration_g.number_of_nodes(), page_collaboration_g.number_of_edges()))\n",
    "\n",
    "# Write the user_collaboration graph to disk\n",
    "# But don't actually do it yet, since this graph isn't very helpful\n",
    "#nx.write_graphml(page_collaboration_g,'collaboration_pages_{0}.graphml'.format(page_title.replace(' ','_')))"
   ]
  },
  {
   "cell_type": "markdown",
   "metadata": {},
   "source": [
    "You could similarly do this for users, but this requires much more memory than we have available within PAWS. You can do some things to remove the pendants (nodes having a degree of one).  But it still generates super-hairball-y graphs. \n",
    "\n",
    "*This code is not executable because it will almost certainly cause your notebook to run out of memory and crash.* I provide the code in case you want to run it locally on other data."
   ]
  },
  {
   "cell_type": "raw",
   "metadata": {},
   "source": [
    "num_of_nodes = len(collab_nobot_g)-1\n",
    "collab_nobot_dc = {u:dc*num_of_nodes for u,dc in nx.degree_centrality(collab_nobot_g).items()}\n",
    "pendant_users = [node for node,degree in collab_nobot_dc.items() if 'u:' in node and degree < 3]\n",
    "cg_no_pendants = collab_nobot_g.copy()\n",
    "cg_no_pendants.remove_nodes_from(pendant_users)\n",
    "\n",
    "cg_no_pendants_users = [n for n,d in cg_no_pendants.nodes_iter(data=True) if d['nodetype'] == 'user']\n",
    "\n",
    "user_collaboration_g = nx.bipartite.weighted_projected_graph(cg_no_pendants,cg_no_pendants_users)\n",
    "user_collaboration_g.number_of_nodes(), user_collaboration_g.number_of_edges()\n",
    "nx.write_gexf(user_collaboration_g,'cwpg_users_cg_nobot_{0}.gexf'.format(page_title.replace(' ','_')))"
   ]
  },
  {
   "cell_type": "markdown",
   "metadata": {},
   "source": [
    "Extract the backbone of the graph using the method from [Serrano, et al. (2009)](http://www.pnas.org/content/106/16/6483.abstract). This method retains the most statistically-significant weighted edges for each node based on a cut-off value of alpha. Rather than using a global thresholding strategy (e.g., dropping all edges below a certain weight) it retains the most important edges for each node."
   ]
  },
  {
   "cell_type": "code",
   "execution_count": 17,
   "metadata": {
    "collapsed": false
   },
   "outputs": [
    {
     "name": "stdout",
     "output_type": "stream",
     "text": [
      "There are 152 nodes and 1322 edges in the LCC of the 0.10 backbone graph.\n",
      "There are 53 nodes and 102 edges in the LCC of the 0.01 backbone graph.\n"
     ]
    }
   ],
   "source": [
    "# Define the backbone extraction method\n",
    "def extract_backbone(g, alpha): # Given an input graph g and a cutoff alpha\n",
    "    backbone_graph = nx.Graph() # Create a new empty graph\n",
    "    for node in g: # Go through all the nodes in the input graph\n",
    "        k_n = len(g[node]) # How many connections does the node have\n",
    "        if k_n > 1: # If it's greater than 1\n",
    "            sum_w = sum( g[node][neighbor]['weight'] for neighbor in g[node] ) # Compute the sum of all the node's weighted edges\n",
    "            for neighbor in g[node]: # For each neighboring node\n",
    "                edgeWeight = g[node][neighbor]['weight'] # Get the edge weight\n",
    "                pij = float(edgeWeight)/sum_w # Compute the fraction of this edge weight over all other edgeweights\n",
    "                if (1-pij)**(k_n-1) < alpha: # Equation 2: If this edgeweight fraction is over the threshold\n",
    "                    node_name = node[2:].replace('_',' ')\n",
    "                    neighbor_name = neighbor[2:].replace('_',' ')\n",
    "                    backbone_graph.add_edge(node_name, neighbor_name, weight = edgeWeight) # Add it to the backbone graph\n",
    "    return backbone_graph\n",
    "\n",
    "# Apply the function to the page_collaboration graph with a cut-off value of 0.1\n",
    "pg_backbone_10_g = extract_backbone(page_collaboration_g,.10)\n",
    "\n",
    "# Apply the function to the page_collaboration graph with a cut-off value of 0.01\n",
    "pg_backbone_01_g = extract_backbone(page_collaboration_g,.01)\n",
    "\n",
    "# Find the largest connected component (LCC) since some algorithms break with multiple components\n",
    "lcc_cpgbb10_g = max(nx.connected_component_subgraphs(pg_backbone_10_g),key=len)\n",
    "lcc_cpgbb01_g = max(nx.connected_component_subgraphs(pg_backbone_01_g),key=len)\n",
    "\n",
    "# Print out the number of nodes and edges\n",
    "print(\"There are {0} nodes and {1} edges in the LCC of the 0.10 backbone graph.\".format(lcc_cpgbb10_g.number_of_nodes(), lcc_cpgbb10_g.number_of_edges()))\n",
    "print(\"There are {0} nodes and {1} edges in the LCC of the 0.01 backbone graph.\".format(lcc_cpgbb01_g.number_of_nodes(), lcc_cpgbb01_g.number_of_edges()))\n",
    "\n",
    "# Save the LCC of the backbone graph to disk\n",
    "nx.write_graphml(lcc_cpgbb10_g,'collab_page_bb_10_{0}.graphml'.format(page_title.replace(' ','_')))\n",
    "nx.write_graphml(lcc_cpgbb01_g,'collab_page_bb_01_{0}.graphml'.format(page_title.replace(' ','_')))"
   ]
  },
  {
   "cell_type": "markdown",
   "metadata": {},
   "source": [
    "Load the data for the projected backbone  (0.01 threshold) collaboration graph."
   ]
  },
  {
   "cell_type": "code",
   "execution_count": 18,
   "metadata": {
    "collapsed": false
   },
   "outputs": [
    {
     "name": "stdout",
     "output_type": "stream",
     "text": [
      "IGRAPH U-W- 152 1322 -- \n",
      "+ attr: id (v), weight (e)\n",
      "IGRAPH U-W- 53 102 -- \n",
      "+ attr: id (v), weight (e)\n"
     ]
    }
   ],
   "source": [
    "# Load the hyperlink network data from disk into a networkx graph object\n",
    "nx_10_hg = nx.read_graphml('collab_page_bb_10_{0}.graphml'.format(page_title.replace(' ','_')))\n",
    "nx_01_hg = nx.read_graphml('collab_page_bb_01_{0}.graphml'.format(page_title.replace(' ','_')))\n",
    "\n",
    "# Load the hyperlink network data from disk into a igraph graph object\n",
    "ig_cpbb10g = ig.read('collab_page_bb_10_{0}.graphml'.format(page_title.replace(' ','_')))\n",
    "ig_cpbb01g = ig.read('collab_page_bb_01_{0}.graphml'.format(page_title.replace(' ','_')))\n",
    "\n",
    "# Get statistics about the network to confirm it loaded properly\n",
    "ig.summary(ig_cpbb10g) \n",
    "ig.summary(ig_cpbb01g)"
   ]
  },
  {
   "cell_type": "markdown",
   "metadata": {},
   "source": [
    "Run the function on the `igraph` version of the backbone (0.01 threshold) collaboration network.\n",
    "\n",
    "*This may take a minute or more since these are intensive calculations*"
   ]
  },
  {
   "cell_type": "code",
   "execution_count": 19,
   "metadata": {
    "collapsed": false
   },
   "outputs": [],
   "source": [
    "# Run the community detection labelling on the igraph graph object\n",
    "comparative_community_labels_10 = comparative_community_detector(ig_cpbb10g)\n",
    "comparative_community_labels_01 = comparative_community_detector(ig_cpbb01g)\n",
    "\n",
    "# Convert the node labels into a dict-of-dicts keyed by page name and inner-dict containing community labels\n",
    "comparative_community_labels_transposed_10 = pd.DataFrame(comparative_community_labels_10).to_dict('index')\n",
    "comparative_community_labels_transposed_01 = pd.DataFrame(comparative_community_labels_10).to_dict('index')\n",
    "\n",
    "# Update each node in the networkx graph object to reflect the community membership labels\n",
    "for _node in nx_10_hg.nodes():\n",
    "    try:\n",
    "        nx_10_hg.node[_node]['label'] = _node\n",
    "        for (label,membership) in comparative_community_labels_transposed_10[_node].items():\n",
    "            nx_10_hg.node[_node][label] = int(membership)\n",
    "    except KeyError: # Concerning that some labels aren't present, but skip them for now\n",
    "        print(\"Error in assigning \\\"{0}\\\" to a community.\".format(_node))\n",
    "        pass\n",
    "    \n",
    "for _node in nx_01_hg.nodes():\n",
    "    try:\n",
    "        nx_01_hg.node[_node]['label'] = _node\n",
    "        for (label,membership) in comparative_community_labels_transposed_01[_node].items():\n",
    "            nx_01_hg.node[_node][label] = int(membership)\n",
    "    except KeyError: # Concerning that some labels aren't present, but skip them for now\n",
    "        print(\"Error in assigning \\\"{0}\\\" to a community.\".format(_node))\n",
    "        pass\n",
    "\n",
    "# Write the labeled graph back to disk to visualize in Gephi\n",
    "nx.write_gexf(nx_10_hg,'collab_page_bb_10_community_{0}.gexf'.format(page_title.replace(' ','_')))\n",
    "nx.write_gexf(nx_01_hg,'collab_page_bb_01_community_{0}.gexf'.format(page_title.replace(' ','_')))"
   ]
  },
  {
   "cell_type": "markdown",
   "metadata": {},
   "source": [
    "## Compute descriptive statistics for the bipartite graph"
   ]
  },
  {
   "cell_type": "code",
   "execution_count": 20,
   "metadata": {
    "collapsed": false
   },
   "outputs": [
    {
     "name": "stdout",
     "output_type": "stream",
     "text": [
      "0.35% of the possible edges actually exist.\n"
     ]
    }
   ],
   "source": [
    "cg_density = nx.bipartite.density(collab_nobot_g,collab_nobot_pages)\n",
    "print('{0:.2%} of the possible edges actually exist.'.format(cg_density))"
   ]
  },
  {
   "cell_type": "markdown",
   "metadata": {},
   "source": [
    "## Identify the most well-connected nodes in the bipartite graph"
   ]
  },
  {
   "cell_type": "markdown",
   "metadata": {},
   "source": [
    "Compute the directed degree centralities. The network is constructed such that users contribute to articles. It should be impossible for articles to contribute to articles, or users to contribute to users, or articles to contribute to users. \n",
    "\n",
    "Following this enforced direction, in-degree values for articles should be non-zero and reflect the number of users who contributed to them while it should be zero for users. The out-degree values for users should be non-zero and reflect the number of articles they contributed to while it should be zero for pages."
   ]
  },
  {
   "cell_type": "code",
   "execution_count": 21,
   "metadata": {
    "collapsed": false
   },
   "outputs": [],
   "source": [
    "collab_nodes = len(collab_nobot_g)\n",
    "cg_in_degree_d = {node:int(round(centrality*(collab_nodes - 1),0)) for node,centrality in nx.in_degree_centrality(collab_nobot_g).items()}\n",
    "cg_out_degree_d = {node:int(round(centrality*(collab_nodes - 1),0)) for node,centrality in nx.out_degree_centrality(collab_nobot_g).items()}"
   ]
  },
  {
   "cell_type": "markdown",
   "metadata": {},
   "source": [
    "Convert the in- and out-degree dictionaries from above into a DataFrame called \"cg_degree_df\" for collaboration degree centrality DataFrame. Also create new columns in `cg_degree_df` that label whether the row is for a page or a user to help with filtering later on."
   ]
  },
  {
   "cell_type": "code",
   "execution_count": 22,
   "metadata": {
    "collapsed": false
   },
   "outputs": [],
   "source": [
    "cg_degree_df = pd.DataFrame({'In':cg_in_degree_d,'Out':cg_out_degree_d})\n",
    "cg_degree_df['Page'] = pd.Series(cg_degree_df.index,index=cg_degree_df.index).str.contains('p:')\n",
    "cg_degree_df['User'] = pd.Series(cg_degree_df.index,index=cg_degree_df.index).str.contains('u:')"
   ]
  },
  {
   "cell_type": "markdown",
   "metadata": {},
   "source": [
    "What is the average connectivity for pages? for users?"
   ]
  },
  {
   "cell_type": "code",
   "execution_count": 23,
   "metadata": {
    "collapsed": false
   },
   "outputs": [
    {
     "data": {
      "text/plain": [
       "457.315"
      ]
     },
     "execution_count": 23,
     "metadata": {},
     "output_type": "execute_result"
    }
   ],
   "source": [
    "cg_degree_df.query(\"Page\")['In'].mean()"
   ]
  },
  {
   "cell_type": "code",
   "execution_count": 24,
   "metadata": {
    "collapsed": false
   },
   "outputs": [
    {
     "data": {
      "text/plain": [
       "1.4064306802804774"
      ]
     },
     "execution_count": 24,
     "metadata": {},
     "output_type": "execute_result"
    }
   ],
   "source": [
    "cg_degree_df.query(\"User\")['Out'].mean()"
   ]
  },
  {
   "cell_type": "markdown",
   "metadata": {},
   "source": [
    "Look at the nodes with the highest in-degree: these are articles and the number of unique users who contributed to them."
   ]
  },
  {
   "cell_type": "code",
   "execution_count": 25,
   "metadata": {
    "collapsed": false
   },
   "outputs": [
    {
     "data": {
      "text/plain": [
       "p:George_W._Bush          5653\n",
       "p:Barack_Obama            2734\n",
       "p:Ronald_Reagan           2140\n",
       "p:September_11_attacks    2059\n",
       "p:Same-sex_marriage       1987\n",
       "p:John_F._Kennedy         1777\n",
       "p:Donald_Trump            1734\n",
       "p:Brazil                  1667\n",
       "p:Iraq_War                1644\n",
       "p:Haiti                   1603\n",
       "Name: In, dtype: int64"
      ]
     },
     "execution_count": 25,
     "metadata": {},
     "output_type": "execute_result"
    }
   ],
   "source": [
    "cg_degree_df['In'].sort_values(ascending=False).head(10)"
   ]
  },
  {
   "cell_type": "markdown",
   "metadata": {},
   "source": [
    "Look at the nodes with the highest out-degree: these are uses and the number of unique articles (in the set) they contributed to."
   ]
  },
  {
   "cell_type": "code",
   "execution_count": 26,
   "metadata": {
    "collapsed": false,
    "scrolled": true
   },
   "outputs": [
    {
     "data": {
      "text/plain": [
       "u:Rjwilmsi           87\n",
       "u:Bender235          84\n",
       "u:Rich Farmbrough    76\n",
       "u:Levineps           74\n",
       "u:J.delanoy          73\n",
       "u:WhisperToMe        72\n",
       "u:Discospinster      72\n",
       "u:Gilliam            69\n",
       "u:Alansohn           63\n",
       "u:BD2412             62\n",
       "Name: Out, dtype: int64"
      ]
     },
     "execution_count": 26,
     "metadata": {},
     "output_type": "execute_result"
    }
   ],
   "source": [
    "cg_degree_df['Out'].sort_values(ascending=False).head(10)"
   ]
  },
  {
   "cell_type": "markdown",
   "metadata": {},
   "source": [
    "Are there any articles with only a single editor?"
   ]
  },
  {
   "cell_type": "code",
   "execution_count": 27,
   "metadata": {
    "collapsed": false
   },
   "outputs": [
    {
     "data": {
      "text/plain": [
       "p:Barbara_Bush_Foundation_for_Family_Literacy    1\n",
       "Name: In, dtype: int64"
      ]
     },
     "execution_count": 27,
     "metadata": {},
     "output_type": "execute_result"
    }
   ],
   "source": [
    "cg_degree_df.query('In == 1 & Page')['In']"
   ]
  },
  {
   "cell_type": "code",
   "execution_count": 28,
   "metadata": {
    "collapsed": false,
    "scrolled": false
   },
   "outputs": [
    {
     "data": {
      "image/png": "[encoded data removed]",
      "text/plain": [
       "<matplotlib.figure.Figure at 0x7fc3cad263c8>"
      ]
     },
     "metadata": {},
     "output_type": "display_data"
    }
   ],
   "source": [
    "in_degree_dist_df = cg_degree_df['In'].value_counts().reset_index()\n",
    "out_degree_dist_df = cg_degree_df['Out'].value_counts().reset_index()\n",
    "revision_dist_df = collab_nobot_edgelist_df['edits'].value_counts().reset_index()\n",
    "\n",
    "f,ax = plt.subplots(1,1)\n",
    "in_degree_dist_df.plot.scatter(x='index',y='In',ax=ax,c='blue',label='Page')\n",
    "out_degree_dist_df.plot.scatter(x='index',y='Out',ax=ax,c='red',label='Editor')\n",
    "revision_dist_df.plot.scatter(x='index',y='edits',ax=ax,c='green',label='Edits')\n",
    "ax.set_xlabel('Connections/Edits')\n",
    "ax.set_ylabel('Count')\n",
    "ax.set_xscale('symlog')\n",
    "ax.set_yscale('symlog')\n",
    "ax.set_xlim((0,1e3))\n",
    "ax.set_ylim((0,1e5));"
   ]
  },
  {
   "cell_type": "markdown",
   "metadata": {},
   "source": [
    "## Identify which pages share the most editors in common in the bipartite graph"
   ]
  },
  {
   "cell_type": "markdown",
   "metadata": {},
   "source": [
    "There are several different ways to calculate clustering in a bipartite network. These all capture the tendency for pages to share editors in common: values closer to 0 imply that an article's editors have contributed to few articles in common and values closer to 1 imply that an article's editors share all articles in common. This definition can be expanded to account for the size of different networks' \n",
    "\n",
    "* **Dot** is the intersection of nodes divided by the union of nodes across all the node's neighbors.\n",
    "* **Min** is the intersection of nodes divided by the smallest set of nodes across all the node's neighbors.\n",
    "* **Max** is the intersection of nodes divided by the largest set of nodes across all the node's neighbors.\n",
    "\n",
    "Figure 5 in Latapy, Magnien, & Del Vecchio (2008) provides another visualization:\n",
    "\n",
    "![bipartite_clustering](http://i.imgur.com/MnLoO9Z.png)"
   ]
  },
  {
   "cell_type": "markdown",
   "metadata": {},
   "source": [
    "Create a loop that computes each of these bipartite clustering values for the pages in the bipartite collaboration network."
   ]
  },
  {
   "cell_type": "code",
   "execution_count": 30,
   "metadata": {
    "collapsed": false
   },
   "outputs": [],
   "source": [
    "collab_bp_ud = collab_nobot_g.to_undirected()\n",
    "clustering_df = pd.DataFrame(index=collab_nobot_pages)\n",
    "for mode in ['dot','min','max']:\n",
    "    clustering_df[mode] = pd.Series(nx.bipartite.clustering(collab_bp_ud,nodes=collab_nobot_pages,mode=mode))"
   ]
  },
  {
   "cell_type": "markdown",
   "metadata": {},
   "source": [
    "Look at what articles have the highest overlap with other articles based on sharing editors in common, according to each of the three definitions."
   ]
  },
  {
   "cell_type": "code",
   "execution_count": 41,
   "metadata": {
    "collapsed": false
   },
   "outputs": [
    {
     "data": {
      "text/plain": [
       "p:George_H._W._Bush                             0.017694\n",
       "p:Laura_W._Bush_Institute_for_Women's_Health    0.016275\n",
       "p:Al_Gore                                       0.016038\n",
       "p:United_States_Congress                        0.015773\n",
       "p:Laura_Bush                                    0.015732\n",
       "p:Hillary_Clinton                               0.015621\n",
       "p:John_F._Kennedy                               0.015560\n",
       "p:Michelle_Obama                                0.015473\n",
       "p:Ronald_Reagan                                 0.015463\n",
       "p:Colorado                                      0.015206\n",
       "Name: dot, dtype: float64"
      ]
     },
     "execution_count": 41,
     "metadata": {},
     "output_type": "execute_result"
    }
   ],
   "source": [
    "clustering_df['dot'].sort_values(ascending=False).head(10)"
   ]
  },
  {
   "cell_type": "code",
   "execution_count": 42,
   "metadata": {
    "collapsed": false
   },
   "outputs": [
    {
     "data": {
      "text/plain": [
       "p:Barbara_Bush_Foundation_for_Family_Literacy                            1.000000\n",
       "p:US-Middle_East_Partnership_for_Breast_Cancer_Awareness_and_Research    0.500000\n",
       "p:Laura_W._Bush_Institute_for_Women's_Health                             0.400000\n",
       "p:Spoken_from_the_Heart                                                  0.333333\n",
       "p:First_Ladies_Summit                                                    0.250000\n",
       "p:Elie_Wiesel_Foundation_for_Humanity                                    0.250000\n",
       "p:Houston_Public_Library                                                 0.181548\n",
       "p:Order_of_Gabriela_Silang                                               0.166667\n",
       "p:National_Heart,_Lung,_and_Blood_Institute                              0.161491\n",
       "p:Flat_Rock,_Henderson_County,_North_Carolina                            0.156448\n",
       "Name: min, dtype: float64"
      ]
     },
     "execution_count": 42,
     "metadata": {},
     "output_type": "execute_result"
    }
   ],
   "source": [
    "clustering_df['min'].sort_values(ascending=False).head(10)"
   ]
  },
  {
   "cell_type": "code",
   "execution_count": 43,
   "metadata": {
    "collapsed": false
   },
   "outputs": [
    {
     "data": {
      "text/plain": [
       "p:George_H._W._Bush                     0.026424\n",
       "p:Al_Gore                               0.024140\n",
       "p:United_States_Congress                0.023561\n",
       "p:Laura_Bush                            0.023467\n",
       "p:Colorado                              0.023386\n",
       "p:Supreme_Court_of_the_United_States    0.023109\n",
       "p:California                            0.022869\n",
       "p:Hillary_Clinton                       0.022839\n",
       "p:Michelle_Obama                        0.022330\n",
       "p:John_F._Kennedy                       0.022315\n",
       "Name: max, dtype: float64"
      ]
     },
     "execution_count": 43,
     "metadata": {},
     "output_type": "execute_result"
    }
   ],
   "source": [
    "clustering_df['max'].sort_values(ascending=False).head(10)"
   ]
  },
  {
   "cell_type": "markdown",
   "metadata": {},
   "source": [
    "Plot the distribution of the clustering coefficients for the pages."
   ]
  },
  {
   "cell_type": "code",
   "execution_count": 109,
   "metadata": {
    "collapsed": false
   },
   "outputs": [
    {
     "data": {
      "text/plain": [
       "<matplotlib.axes._subplots.AxesSubplot at 0x7fc3c54bd390>"
      ]
     },
     "execution_count": 109,
     "metadata": {},
     "output_type": "execute_result"
    },
    {
     "data": {
      "image/png": "[encoded data removed]",
      "text/plain": [
       "<matplotlib.figure.Figure at 0x7fc3c4f3f278>"
      ]
     },
     "metadata": {},
     "output_type": "display_data"
    }
   ],
   "source": [
    "clustering_df['dot'].plot.hist(bins=25)"
   ]
  },
  {
   "cell_type": "markdown",
   "metadata": {},
   "source": [
    "Because the distributions for these clustering values are so skewed, look at the median values to describe the network as a whole."
   ]
  },
  {
   "cell_type": "code",
   "execution_count": 34,
   "metadata": {
    "collapsed": false
   },
   "outputs": [
    {
     "data": {
      "text/plain": [
       "(0.007760796532944082, 0.04985100323200635, 0.011069332824029728)"
      ]
     },
     "execution_count": 34,
     "metadata": {},
     "output_type": "execute_result"
    }
   ],
   "source": [
    "clustering_df['dot'].median(), clustering_df['min'].median(), clustering_df['max'].median()"
   ]
  },
  {
   "cell_type": "markdown",
   "metadata": {},
   "source": [
    "How is the clustering coefficient correlated with the connectivity of the node?"
   ]
  },
  {
   "cell_type": "code",
   "execution_count": 45,
   "metadata": {
    "collapsed": false
   },
   "outputs": [
    {
     "data": {
      "image/png": "[encoded data removed]",
      "text/plain": [
       "<matplotlib.figure.Figure at 0x7fc3c531cf28>"
      ]
     },
     "metadata": {},
     "output_type": "display_data"
    }
   ],
   "source": [
    "degree_clustering_df = pd.DataFrame({'Degree':cg_degree_df.query('Page')['In'],'Clustering':clustering_df['dot']})\n",
    "\n",
    "ax = degree_clustering_df.plot.scatter(x='Degree',y='Clustering')\n",
    "max_degree_rounded = np.round(degree_clustering_df['Degree'].max(),-4)\n",
    "ax.set_xlabel('Article Degree')\n",
    "ax.set_ylabel('Article Clustering')\n",
    "ax.set_xlim((1,max_degree_rounded))\n",
    "ax.set_ylim((1/max_degree_rounded,1e0))\n",
    "ax.set_xscale('log')\n",
    "ax.set_yscale('log')"
   ]
  },
  {
   "cell_type": "markdown",
   "metadata": {},
   "source": [
    "## Measure neighbor connectivity in the bipartite graph"
   ]
  },
  {
   "cell_type": "markdown",
   "metadata": {},
   "source": [
    "[Assortativity](https://en.wikipedia.org/wiki/Assortativity) is a complex network property measuring whether nodes are connected to other similar nodes. A related concept is called \"[homophily](https://en.wikipedia.org/wiki/Homophily)\".\n",
    "\n",
    "Working from the degree analyses we did above, we can do a similar measure of \"degree assortativity\" that captures the tendency for well-connected nodes to be connected to other well-connected nodes. This is a property seen in many social networks where popular actors surround themselves with other popular actors. Conversely, in many natural systems \"dissortative\" patterns are observed wherein well-connected nodes are connected to poorly-connected nodes. One popular reason given for this difference is that many natural (as opposed to social) systems have evolved to be resilient and that separating well-connected nodes from poorly-connected nodes helps insulate the network from failures.\n",
    "\n",
    "While assortativity is typically examined in the context of one-mode (e.g., page-page or user-user) networks, we can extend this definition to our bipartite collaboration network by looking at neighbor connectivity."
   ]
  },
  {
   "cell_type": "code",
   "execution_count": 36,
   "metadata": {
    "collapsed": false
   },
   "outputs": [
    {
     "data": {
      "text/plain": [
       "<matplotlib.text.Text at 0x7fc3c8651630>"
      ]
     },
     "execution_count": 36,
     "metadata": {},
     "output_type": "execute_result"
    },
    {
     "data": {
      "image/png": "[encoded data removed]",
      "text/plain": [
       "<matplotlib.figure.Figure at 0x7fc3c86a8d68>"
      ]
     },
     "metadata": {},
     "output_type": "display_data"
    }
   ],
   "source": [
    "avg_page_neighbor_degree = nx.neighbor_degree.average_neighbor_degree(collab_bp_ud,\n",
    "                                                                     source='in',target='out',\n",
    "                                                                     nodes=collab_nobot_pages)\n",
    "\n",
    "ax = pd.Series(avg_page_neighbor_degree).plot.hist(bins=25)\n",
    "ax.set_xlabel('Avg. user contributions')"
   ]
  },
  {
   "cell_type": "code",
   "execution_count": 39,
   "metadata": {
    "collapsed": false
   },
   "outputs": [
    {
     "data": {
      "text/plain": [
       "<matplotlib.text.Text at 0x7fc3c79d6b70>"
      ]
     },
     "execution_count": 39,
     "metadata": {},
     "output_type": "execute_result"
    },
    {
     "data": {
      "image/png": "[encoded data removed]",
      "text/plain": [
       "<matplotlib.figure.Figure at 0x7fc3c79d8828>"
      ]
     },
     "metadata": {},
     "output_type": "display_data"
    }
   ],
   "source": [
    "avg_user_neighbor_degree = nx.neighbor_degree.average_neighbor_degree(collab_bp_ud,\n",
    "                                                                     source='in',target='out',\n",
    "                                                                     nodes=collab_nobot_users)\n",
    "\n",
    "ax = pd.Series(avg_user_neighbor_degree).plot.hist(bins=25)\n",
    "ax.set_xlabel('Avg. article contributors')"
   ]
  },
  {
   "cell_type": "code",
   "execution_count": 88,
   "metadata": {
    "collapsed": false
   },
   "outputs": [
    {
     "data": {
      "text/plain": [
       "<matplotlib.text.Text at 0x7fc3c5116f28>"
      ]
     },
     "execution_count": 88,
     "metadata": {},
     "output_type": "execute_result"
    },
    {
     "data": {
      "image/png": "[encoded data removed]",
      "text/plain": [
       "<matplotlib.figure.Figure at 0x7fc3c5271630>"
      ]
     },
     "metadata": {},
     "output_type": "display_data"
    }
   ],
   "source": [
    "# Compute the average degree connectivity for users\n",
    "page_collab_avg_connectivity = nx.assortativity.average_degree_connectivity(collab_bp_ud,\n",
    "                                                                     source='in',target='out',\n",
    "                                                                     nodes=collab_nobot_users)\n",
    "# Compute the average degree connectivity for pages\n",
    "user_collab_avg_connectivity = nx.assortativity.average_degree_connectivity(collab_bp_ud,\n",
    "                                                                     source='out',target='in',\n",
    "                                                                     nodes=collab_nobot_pages)\n",
    "# Combine into a DataFrame and cleanup\n",
    "collab_avg_connectivity_df = pd.DataFrame({'Page':page_collab_avg_connectivity,'User':user_collab_avg_connectivity})\n",
    "collab_avg_connectivity_df = collab_avg_connectivity_df.reset_index()\n",
    "collab_avg_connectivity_df = collab_avg_connectivity_df.rename(columns={'index':'Connections'})\n",
    "\n",
    "# Plot the data\n",
    "ax = collab_avg_connectivity_df.plot.scatter(x='Connections',y='Page',label='User',c='blue')\n",
    "ax = collab_avg_connectivity_df.plot.scatter(x='Connections',y='User',ax=ax,label='Page',c='red')\n",
    "ax.set_xlim((1e0,1e5))\n",
    "ax.set_ylim((1e0,1e5))\n",
    "ax.set_xscale('log')\n",
    "ax.set_yscale('log')\n",
    "ax.set_xlabel('Degree')\n",
    "ax.set_ylabel('Avg. Neighbor Degree')"
   ]
  },
  {
   "cell_type": "markdown",
   "metadata": {},
   "source": [
    "## Compute descriptive statistics for the projected graph"
   ]
  },
  {
   "cell_type": "code",
   "execution_count": 46,
   "metadata": {
    "collapsed": false
   },
   "outputs": [
    {
     "data": {
      "text/plain": [
       "0.5074371859296483"
      ]
     },
     "execution_count": 46,
     "metadata": {},
     "output_type": "execute_result"
    }
   ],
   "source": [
    "nx.density(page_collaboration_g)"
   ]
  },
  {
   "cell_type": "markdown",
   "metadata": {},
   "source": [
    "Compute the degree centrality of the nodes in the projected graph."
   ]
  },
  {
   "cell_type": "code",
   "execution_count": 103,
   "metadata": {
    "collapsed": false
   },
   "outputs": [
    {
     "data": {
      "text/plain": [
       "p:George_W._Bush       177.0\n",
       "p:Ronald_Reagan        174.0\n",
       "p:Barack_Obama         173.0\n",
       "p:George_H._W._Bush    171.0\n",
       "p:Hillary_Clinton      169.0\n",
       "p:John_F._Kennedy      167.0\n",
       "p:Donald_Trump         167.0\n",
       "p:Texas                166.0\n",
       "p:Dallas               166.0\n",
       "p:California           165.0\n",
       "dtype: float64"
      ]
     },
     "execution_count": 103,
     "metadata": {},
     "output_type": "execute_result"
    }
   ],
   "source": [
    "page_collab_size = page_collaboration_g.number_of_nodes()\n",
    "page_collab_dc = {node:round(degree*(page_collab_size - 1),0) for node,degree in nx.degree_centrality(page_collaboration_g).items()}\n",
    "\n",
    "pd.Series(page_collab_dc).sort_values(ascending=False).head(10)"
   ]
  },
  {
   "cell_type": "markdown",
   "metadata": {},
   "source": [
    "Compute the clustering of the nodes in the projected graph."
   ]
  },
  {
   "cell_type": "code",
   "execution_count": 101,
   "metadata": {
    "collapsed": false
   },
   "outputs": [
    {
     "data": {
      "text/plain": [
       "<matplotlib.axes._subplots.AxesSubplot at 0x7fc3c4cd8cc0>"
      ]
     },
     "execution_count": 101,
     "metadata": {},
     "output_type": "execute_result"
    },
    {
     "data": {
      "image/png": "[encoded data removed]",
      "text/plain": [
       "<matplotlib.figure.Figure at 0x7fc3c5429470>"
      ]
     },
     "metadata": {},
     "output_type": "display_data"
    }
   ],
   "source": [
    "page_collab_clustering = nx.clustering(page_collaboration_g)\n",
    "\n",
    "pd.Series(page_collab_clustering).plot.hist(bins=25)"
   ]
  },
  {
   "cell_type": "markdown",
   "metadata": {},
   "source": [
    "Plot the clustering against degree."
   ]
  },
  {
   "cell_type": "code",
   "execution_count": 108,
   "metadata": {
    "collapsed": false
   },
   "outputs": [
    {
     "data": {
      "text/plain": [
       "(0, 1.05)"
      ]
     },
     "execution_count": 108,
     "metadata": {},
     "output_type": "execute_result"
    },
    {
     "data": {
      "image/png": "[encoded data removed]",
      "text/plain": [
       "<matplotlib.figure.Figure at 0x7fc3c54c2780>"
      ]
     },
     "metadata": {},
     "output_type": "display_data"
    }
   ],
   "source": [
    "page_collab_degree_clustering_df = pd.DataFrame({'Clustering':page_collab_clustering,'Degree':page_collab_dc})\n",
    "\n",
    "ax = page_collab_degree_clustering_df.plot.scatter(x='Degree',y='Clustering')\n",
    "ax.set_ylim((0,1.05))"
   ]
  },
  {
   "cell_type": "markdown",
   "metadata": {},
   "source": [
    "Compute the average neighbor degrees in the projected graph and plot the degree vs. avg. neighbor degree."
   ]
  },
  {
   "cell_type": "code",
   "execution_count": 97,
   "metadata": {
    "collapsed": false
   },
   "outputs": [
    {
     "data": {
      "text/plain": [
       "(0, 300.0)"
      ]
     },
     "execution_count": 97,
     "metadata": {},
     "output_type": "execute_result"
    },
    {
     "data": {
      "image/png": "[encoded data removed]",
      "text/plain": [
       "<matplotlib.figure.Figure at 0x7fc3c4f3f400>"
      ]
     },
     "metadata": {},
     "output_type": "display_data"
    }
   ],
   "source": [
    "page_collab_avg_connectivity = nx.assortativity.average_degree_connectivity(page_collaboration_g)\n",
    "\n",
    "_df = pd.Series(page_collab_avg_connectivity).reset_index().rename(columns={'index':'Degree',0:'Avg. Neighbor Degree'})\n",
    "ax = _df.plot.scatter(x='Degree',y='Avg. Neighbor Degree')\n",
    "_max = round(len(page_collaboration_g),-2)*1.5\n",
    "ax.set_xlim((0,_max))\n",
    "ax.set_ylim((0,_max))"
   ]
  },
  {
   "cell_type": "markdown",
   "metadata": {},
   "source": [
    "## Comparing the hyperlink and coauthorship projected networks"
   ]
  },
  {
   "cell_type": "code",
   "execution_count": null,
   "metadata": {
    "collapsed": true
   },
   "outputs": [],
   "source": []
  }
 ],
 "metadata": {
  "kernelspec": {
   "display_name": "Python 3",
   "language": "python",
   "name": "python3"
  },
  "language_info": {
   "codemirror_mode": {
    "name": "ipython",
    "version": 3
   },
   "file_extension": ".py",
   "mimetype": "text/x-python",
   "name": "python",
   "nbconvert_exporter": "python",
   "pygments_lexer": "ipython3",
   "version": "3.4.2"
  }
 },
 "nbformat": 4,
 "nbformat_minor": 1
}
